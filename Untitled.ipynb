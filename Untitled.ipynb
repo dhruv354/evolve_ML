{
 "cells": [
  {
   "cell_type": "code",
   "execution_count": 28,
   "id": "3b2984e8",
   "metadata": {},
   "outputs": [],
   "source": [
    "import tensorflow as tf\n",
    "from tensorflow.keras.models import model_from_json\n",
    "import numpy as np\n",
    "import matplotlib.pyplot as plt\n",
    "%matplotlib inline"
   ]
  },
  {
   "cell_type": "code",
   "execution_count": 27,
   "id": "ccb9328a",
   "metadata": {},
   "outputs": [],
   "source": [
    "#class to load model architecture and weights\n",
    "class LoadModel(object):\n",
    "    \n",
    "    class_names = ['kedar_jadhav',\n",
    " 'vijay_shankar',\n",
    " 'virat_kohli',\n",
    " 'jasprit_bumrah',\n",
    " 'yuzvendra_chahal',\n",
    " 'ms_dhoni',\n",
    " 'dinesh_karthik',\n",
    " 'rohit_sharma',\n",
    " 'hardik_pandya',\n",
    " 'shikhar_dhawan',\n",
    " 'mohammed_shami',\n",
    " 'ravindra_jadeja',\n",
    " 'bhuvneshwar_kumar',\n",
    " 'kuldeep_yadav',\n",
    " 'k._l._rahul']\n",
    "    \n",
    "    #cnstructor to load the model\n",
    "    def __init__(self, model_json, model_weights):\n",
    "        json_file = open(model_json, 'r')\n",
    "        loaded_json_model = json_file.read()\n",
    "        self.model_architecure = model_from_json(loaded_model_json)\n",
    "        \n",
    "        #now load weights to the model\n",
    "        self.model_architecture.load_weights(model_weights)\n",
    "        self.model_architecture.make_predict_function()\n",
    "        \n",
    "    def predict_cricketer_name(self, img):\n",
    "        self.preds = self.model_architecture.predict(img)\n",
    "        output = LoadModel.class_names[(np.argmax(self.preds))]\n",
    "        return output\n",
    "        \n",
    "        "
   ]
  },
  {
   "cell_type": "code",
   "execution_count": 5,
   "id": "2f193e25",
   "metadata": {},
   "outputs": [
    {
     "data": {
      "text/plain": [
       "<VideoCapture 0x7fef97b2f9d0>"
      ]
     },
     "execution_count": 5,
     "metadata": {},
     "output_type": "execute_result"
    }
   ],
   "source": [
    "import cv2\n",
    "cv2.VideoCapture(-1)"
   ]
  },
  {
   "cell_type": "code",
   "execution_count": null,
   "id": "94504b3e",
   "metadata": {},
   "outputs": [],
   "source": [
    "\n",
    "\n",
    "cascade = cv2.CascadeClassifier('haarcascade_frontalface_default.xml')\n",
    "model = FacialExpressionModel(\"model.json\", \"model_weights.h5\")\n",
    "font = cv2.FONT_HERSHEY_SIMPLEX\n",
    "\n",
    "class VideoCamera(object):\n",
    "    def __init__(self):\n",
    "        self.video = cv2.VideoCapture(0)\n",
    "\n",
    "    def __del__(self):\n",
    "        self.video.release()\n",
    "\n",
    "    # returns camera frames along with bounding boxes and predictions\n",
    "    def get_frame(self):\n",
    "        _, fr = self.video.read()\n",
    "        gray_fr = cv2.cvtColor(fr, cv2.COLOR_BGR2GRAY)\n",
    "        faces = facec.detectMultiScale(gray_fr, 1.3, 5)\n",
    "\n",
    "        for (x, y, w, h) in faces:\n",
    "            fc = gray_fr[y:y+h, x:x+w]\n",
    "\n",
    "            roi = cv2.resize(fc, (48, 48))\n",
    "            pred = model.predict_emotion(roi[np.newaxis, :, :, np.newaxis])\n",
    "\n",
    "            cv2.putText(fr, pred, (x, y), font, 1, (255, 255, 0), 2)\n",
    "            cv2.rectangle(fr,(x,y),(x+w,y+h),(255,0,0),2)\n",
    "\n",
    "        _, jpeg = cv2.imencode('.jpg', fr)\n",
    "        return jpeg.tobytes()"
   ]
  }
 ],
 "metadata": {
  "kernelspec": {
   "display_name": "Python 3",
   "language": "python",
   "name": "python3"
  },
  "language_info": {
   "codemirror_mode": {
    "name": "ipython",
    "version": 3
   },
   "file_extension": ".py",
   "mimetype": "text/x-python",
   "name": "python",
   "nbconvert_exporter": "python",
   "pygments_lexer": "ipython3",
   "version": "3.8.5"
  }
 },
 "nbformat": 4,
 "nbformat_minor": 5
}
